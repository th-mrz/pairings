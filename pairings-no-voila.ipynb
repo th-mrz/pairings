{
 "cells": [
  {
   "cell_type": "code",
   "execution_count": null,
   "id": "cd571a09",
   "metadata": {},
   "outputs": [],
   "source": [
    "import pandas as pd\n",
    "import itertools\n",
    "import matplotlib.pyplot as plt\n",
    "import ipywidgets as widgets\n",
    "import json\n",
    "from IPython.display import HTML"
   ]
  },
  {
   "cell_type": "code",
   "execution_count": null,
   "id": "c03f812f",
   "metadata": {},
   "outputs": [],
   "source": [
    "separateur = \";\"\n",
    "PAIRING_FILE = \"./pairings.csv\""
   ]
  },
  {
   "cell_type": "code",
   "execution_count": null,
   "id": "3ba5ace7",
   "metadata": {},
   "outputs": [],
   "source": [
    "df = pd.read_csv(PAIRING_FILE, sep=separateur, index_col=0)\n",
    "df"
   ]
  },
  {
   "cell_type": "code",
   "execution_count": null,
   "id": "6f20a7a8",
   "metadata": {},
   "outputs": [],
   "source": [
    "def has_duplicates(listOfElements):\n",
    "    if len(listOfElements) == len(set(listOfElements)):\n",
    "        return False\n",
    "    else:\n",
    "        return True\n",
    "    \n",
    "def sum_score_of_pairing(pairing):\n",
    "    score = 0\n",
    "    for (x, y) in pairing:\n",
    "        score += df[x][y]\n",
    "    return score\n",
    "\n",
    "def launch_pairing(df, paired_estimates=0):\n",
    "    team1 = df.columns.values.tolist()\n",
    "    team2 = df.index.values.tolist()    \n",
    "    if len(team1) == len(team2): \n",
    "        result = list(map(lambda team: list(itertools.product([team], team2)), team1))\n",
    "        result_product = list(itertools.product(*result))\n",
    "        pairings = list(filter(lambda pairing: not has_duplicates([x[1] for x in pairing]), result_product))\n",
    "        df_pairings = pd.DataFrame(pd.Series(pairings), columns=[\"Pairings\"])\n",
    "        df_pairings[\"Estimation\"] = df_pairings[\"Pairings\"].apply(lambda x: sum_score_of_pairing(x) + paired_estimates)\n",
    "        return df_pairings\n",
    "    return None\n",
    "\n",
    "def result_of(df):\n",
    "    win = len(df[df.Estimation > 65].index)\n",
    "    draw = len(df[(df.Estimation >= 55) & (df.Estimation <= 65)].index)\n",
    "    loose = len(df[df.Estimation < 55].index)\n",
    "    return [win, draw, loose]\n",
    "\n",
    "def top_ten(df):\n",
    "    return df.sort_values(by=\"Estimation\", ascending=False).head(10)\n",
    "\n",
    "def repartition(df):\n",
    "    df = df.Estimation.value_counts().to_frame('count').reset_index().sort_values(by=\"index\")\n",
    "    df[\"VP\"] = df[\"index\"]\n",
    "    df[\"Nombre\"] = df[\"count\"]\n",
    "    return df[[\"VP\", \"Nombre\"]].sort_values(by=\"VP\", ascending=False)\n",
    "\n",
    "def print_result(df, paired_estimates=0):\n",
    "    result = launch_pairing(df, paired_estimates)\n",
    "    results = result_of(result)\n",
    "    print(\"Win / Draw / Loose : \" + str(results[0]) + \" / \" + str(results[1]) + \" / \" + str(results[2]))\n",
    "    display(top_ten(result)) \n",
    "    display(repartition(result))\n",
    "    return result\n",
    "\n",
    "def print_with_vizu(df, paired_estimates=0):\n",
    "    result = launch_pairing(df, paired_estimates)\n",
    "    results = result_of(result)\n",
    "    print(\"Win / Draw / Loose : \" + str(results[0]) + \" / \" + str(results[1]) + \" / \" + str(results[2]))\n",
    "    plt.pie(results, labels=[\"Wins\", \"Draws\", \"Looses\"], autopct='%1.1f%%')\n",
    "    plt.show()\n",
    "    plt.hist(result.Estimation)\n",
    "    plt.title(\"Répartition des estimations\")\n",
    "    plt.xlabel(\"Victory Points\")\n",
    "    plt.ylabel(\"Nombre de pairings\")\n",
    "    plt.grid()\n",
    "    display(top_ten(result))\n",
    "    \n",
    "def find_pairing(df, estimation):\n",
    "    result = launch_pairing(df)\n",
    "    return HTML(result[result.Estimation == estimation].to_html())\n",
    "\n",
    "def cut_pairing(df, column, index):\n",
    "    score_droped = df.iloc[index][column]\n",
    "    print(df.columns[column] + \" vs \" + df.index[index] + \" - estimé \" + str(score_droped))\n",
    "    new_pairing = df.drop(columns=df.columns[column]).drop(index=df.index[index])\n",
    "    return new_pairing, score_droped"
   ]
  },
  {
   "cell_type": "code",
   "execution_count": null,
   "id": "21dce994",
   "metadata": {},
   "outputs": [],
   "source": [
    "print(\"#### AVANT LE PREMIER PAIRING ####\\n\")\n",
    "print_with_vizu(df)"
   ]
  },
  {
   "cell_type": "code",
   "execution_count": null,
   "id": "2cdd2b94",
   "metadata": {},
   "outputs": [],
   "source": [
    "display(df)\n",
    "find_pairing(df, 79)"
   ]
  },
  {
   "cell_type": "code",
   "execution_count": null,
   "id": "b4daa5b8",
   "metadata": {},
   "outputs": [],
   "source": [
    "print(\"#### 1ER PAIRING ####\\n\")\n",
    "new_pairing, score_droped = cut_pairing(df, 2, 5)\n",
    "#print_with_vizu(new_pairing, score_droped)"
   ]
  },
  {
   "cell_type": "code",
   "execution_count": null,
   "id": "f996161b",
   "metadata": {},
   "outputs": [],
   "source": [
    "print(\"#### 2EME PAIRING ####\\n\")\n",
    "second_pairing, second_score_droped = cut_pairing(new_pairing, 3, 1)\n",
    "#print_with_vizu(second_pairing, score_droped + second_score_droped)"
   ]
  },
  {
   "cell_type": "code",
   "execution_count": null,
   "id": "5c88f07a",
   "metadata": {},
   "outputs": [],
   "source": []
  }
 ],
 "metadata": {
  "kernelspec": {
   "display_name": "Python 3 (ipykernel)",
   "language": "python",
   "name": "python3"
  },
  "language_info": {
   "codemirror_mode": {
    "name": "ipython",
    "version": 3
   },
   "file_extension": ".py",
   "mimetype": "text/x-python",
   "name": "python",
   "nbconvert_exporter": "python",
   "pygments_lexer": "ipython3",
   "version": "3.9.5"
  }
 },
 "nbformat": 4,
 "nbformat_minor": 5
}
