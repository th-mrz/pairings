{
 "cells": [
  {
   "cell_type": "code",
   "execution_count": 6,
   "id": "cd571a09",
   "metadata": {},
   "outputs": [],
   "source": [
    "import pandas as pd\n",
    "import itertools\n",
    "import matplotlib.pyplot as plt\n",
    "import ipysheet\n",
    "import ipywidgets as widgets\n",
    "import json"
   ]
  },
  {
   "cell_type": "code",
   "execution_count": 2,
   "id": "c03f812f",
   "metadata": {},
   "outputs": [],
   "source": [
    "separateur = \";\"\n",
    "PAIRING_FILE = \"~/Workspace/pairings/pairings.csv\""
   ]
  },
  {
   "cell_type": "code",
   "execution_count": 3,
   "id": "3ba5ace7",
   "metadata": {},
   "outputs": [],
   "source": [
    "df = pd.read_csv(PAIRING_FILE, sep=separateur, index_col=0)"
   ]
  },
  {
   "cell_type": "code",
   "execution_count": 4,
   "id": "c1b45239",
   "metadata": {},
   "outputs": [
    {
     "data": {
      "text/html": [
       "<div>\n",
       "<style scoped>\n",
       "    .dataframe tbody tr th:only-of-type {\n",
       "        vertical-align: middle;\n",
       "    }\n",
       "\n",
       "    .dataframe tbody tr th {\n",
       "        vertical-align: top;\n",
       "    }\n",
       "\n",
       "    .dataframe thead th {\n",
       "        text-align: right;\n",
       "    }\n",
       "</style>\n",
       "<table border=\"1\" class=\"dataframe\">\n",
       "  <thead>\n",
       "    <tr style=\"text-align: right;\">\n",
       "      <th></th>\n",
       "      <th>Drukhari 1</th>\n",
       "      <th>Nécrons 1</th>\n",
       "      <th>GK 1</th>\n",
       "      <th>Sistas 1</th>\n",
       "      <th>Orks 1</th>\n",
       "      <th>TS 1</th>\n",
       "    </tr>\n",
       "  </thead>\n",
       "  <tbody>\n",
       "    <tr>\n",
       "      <th>Drukhari 2</th>\n",
       "      <td>10</td>\n",
       "      <td>5</td>\n",
       "      <td>5</td>\n",
       "      <td>10</td>\n",
       "      <td>10</td>\n",
       "      <td>5</td>\n",
       "    </tr>\n",
       "    <tr>\n",
       "      <th>SM 2</th>\n",
       "      <td>15</td>\n",
       "      <td>15</td>\n",
       "      <td>20</td>\n",
       "      <td>15</td>\n",
       "      <td>15</td>\n",
       "      <td>15</td>\n",
       "    </tr>\n",
       "    <tr>\n",
       "      <th>Admech 2</th>\n",
       "      <td>5</td>\n",
       "      <td>5</td>\n",
       "      <td>10</td>\n",
       "      <td>5</td>\n",
       "      <td>15</td>\n",
       "      <td>10</td>\n",
       "    </tr>\n",
       "    <tr>\n",
       "      <th>DG 2</th>\n",
       "      <td>10</td>\n",
       "      <td>10</td>\n",
       "      <td>15</td>\n",
       "      <td>5</td>\n",
       "      <td>5</td>\n",
       "      <td>15</td>\n",
       "    </tr>\n",
       "    <tr>\n",
       "      <th>Sistas 2</th>\n",
       "      <td>10</td>\n",
       "      <td>15</td>\n",
       "      <td>10</td>\n",
       "      <td>10</td>\n",
       "      <td>5</td>\n",
       "      <td>15</td>\n",
       "    </tr>\n",
       "    <tr>\n",
       "      <th>Custodes 2</th>\n",
       "      <td>15</td>\n",
       "      <td>20</td>\n",
       "      <td>15</td>\n",
       "      <td>10</td>\n",
       "      <td>15</td>\n",
       "      <td>15</td>\n",
       "    </tr>\n",
       "  </tbody>\n",
       "</table>\n",
       "</div>"
      ],
      "text/plain": [
       "            Drukhari 1  Nécrons 1  GK 1  Sistas 1  Orks 1  TS 1\n",
       "Drukhari 2          10          5     5        10      10     5\n",
       "SM 2                15         15    20        15      15    15\n",
       "Admech 2             5          5    10         5      15    10\n",
       "DG 2                10         10    15         5       5    15\n",
       "Sistas 2            10         15    10        10       5    15\n",
       "Custodes 2          15         20    15        10      15    15"
      ]
     },
     "execution_count": 4,
     "metadata": {},
     "output_type": "execute_result"
    }
   ],
   "source": [
    "df"
   ]
  },
  {
   "cell_type": "code",
   "execution_count": 9,
   "id": "c6ef7aa2",
   "metadata": {},
   "outputs": [
    {
     "data": {
      "text/plain": [
       "'{\"columns\": [\"Drukhari 1\", \"N\\\\u00e9crons 1\", \"GK 1\", \"Sistas 1\", \"Orks 1\", \"TS 1\"], \"index\": [\"Drukhari 2\", \"SM 2\", \"Admech 2\", \"DG 2\", \"Sistas 2\", \"Custodes 2\"], \"data\": [[10, 5, 5, 10, 10, 5], [15, 15, 20, 15, 15, 15], [5, 5, 10, 5, 15, 10], [10, 10, 15, 5, 5, 15], [10, 15, 10, 10, 5, 15], [15, 20, 15, 10, 15, 15]]}'"
      ]
     },
     "execution_count": 9,
     "metadata": {},
     "output_type": "execute_result"
    }
   ],
   "source": [
    "result = df.to_json(orient=\"split\")\n",
    "parsed = json.loads(result)\n",
    "json.dumps(parsed)"
   ]
  },
  {
   "cell_type": "code",
   "execution_count": 5,
   "id": "7b492b12",
   "metadata": {
    "scrolled": true
   },
   "outputs": [
    {
     "data": {
      "application/vnd.jupyter.widget-view+json": {
       "model_id": "7e514d14694548a0a408ffa8a0158534",
       "version_major": 2,
       "version_minor": 0
      },
      "text/plain": [
       "Sheet(cells=(Cell(column_end=0, column_start=0, numeric_format='0[.]0', row_end=5, row_start=0, squeeze_row=Fa…"
      ]
     },
     "metadata": {},
     "output_type": "display_data"
    }
   ],
   "source": [
    "sheet = ipysheet.from_dataframe(df)\n",
    "widgets.VBox([sheet])\n",
    "sheet"
   ]
  },
  {
   "cell_type": "code",
   "execution_count": 6,
   "id": "6f20a7a8",
   "metadata": {},
   "outputs": [],
   "source": [
    "def has_duplicates(listOfElements):\n",
    "    if len(listOfElements) == len(set(listOfElements)):\n",
    "        return False\n",
    "    else:\n",
    "        return True"
   ]
  },
  {
   "cell_type": "code",
   "execution_count": 7,
   "id": "f1609303",
   "metadata": {},
   "outputs": [],
   "source": [
    "def sum_score_of_pairing(pairing):\n",
    "    score = 0\n",
    "    for (x, y) in pairing:\n",
    "        score += df[x][y]\n",
    "    return score"
   ]
  },
  {
   "cell_type": "code",
   "execution_count": 16,
   "id": "5cbd91db",
   "metadata": {},
   "outputs": [],
   "source": [
    "output = widgets.Output()\n",
    "\n",
    "@output.capture(clear_output=False,wait=True) \n",
    "def launch_pairing(instance):\n",
    "    df = ipysheet.to_dataframe(sheet)\n",
    "    team1=df.columns.values.tolist()\n",
    "    team2=df.index.values.tolist()\n",
    "    list_j1 = list(itertools.product([team1[0]], team2))\n",
    "    list_j2 = list(itertools.product([team1[1]], team2))\n",
    "    list_j3 = list(itertools.product([team1[2]], team2))\n",
    "    list_j4 = list(itertools.product([team1[3]], team2))\n",
    "    list_j5 = list(itertools.product([team1[4]], team2))\n",
    "    list_j6 = list(itertools.product([team1[5]], team2))\n",
    "    total = list(itertools.product(list_j1, list_j2, list_j3, list_j4, list_j5, list_j6))\n",
    "    pairings = filter(lambda pairing: not has_duplicates([x[1] for x in pairing]), total)\n",
    "    list_pairings = list(pairings)\n",
    "    df_pairings = pd.DataFrame(pd.Series(list_pairings), columns=[\"Pairings\"])\n",
    "    df_pairings[\"Estimation\"] = df_pairings[\"Pairings\"].apply(lambda x: sum_score_of_pairing(x))\n",
    "    df_hist = df_pairings.Estimation.value_counts().to_frame('count').reset_index() #.rename(columns={\"index\":\"Estimation en VP\", \"count\":\"test\"})\n",
    "    df_hist[\"Estimation en VP\"] = df_hist[\"index\"]\n",
    "    df_hist[\"Nombre de pairings\"] = df_hist[\"count\"]\n",
    "    df_hist = df_hist[[\"Estimation en VP\", \"Nombre de pairings\"]]\n",
    "    display(df_hist.sort_values(by=\"Estimation en VP\"))\n",
    "    plt.hist(df_pairings.Estimation)\n",
    "    plt.title(\"Répartition des estimations sur les 720 pairings\")\n",
    "    plt.xlabel(\"Estimation en VP\")\n",
    "    plt.ylabel(\"Nombre de pairings\")\n",
    "    plt.grid()"
   ]
  },
  {
   "cell_type": "code",
   "execution_count": 17,
   "id": "dd71746b",
   "metadata": {},
   "outputs": [
    {
     "data": {
      "application/vnd.jupyter.widget-view+json": {
       "model_id": "c199729c1e454ff98070504da8fe856d",
       "version_major": 2,
       "version_minor": 0
      },
      "text/plain": [
       "Button(description='Lancer le pairing', icon='check', style=ButtonStyle(), tooltip='Lancer le pairing')"
      ]
     },
     "metadata": {},
     "output_type": "display_data"
    },
    {
     "data": {
      "application/vnd.jupyter.widget-view+json": {
       "model_id": "79ff8e1d3517434880a2f9e35c690be8",
       "version_major": 2,
       "version_minor": 0
      },
      "text/plain": [
       "Output()"
      ]
     },
     "metadata": {},
     "output_type": "display_data"
    },
    {
     "data": {
      "image/png": "[encoded data removed]",
      "text/plain": [
       "<Figure size 432x288 with 1 Axes>"
      ]
     },
     "metadata": {
      "needs_background": "light"
     },
     "output_type": "display_data"
    }
   ],
   "source": [
    "button = widgets.Button(\n",
    "    description='Lancer le pairing',\n",
    "    disabled=False,\n",
    "    button_style='', # 'success', 'info', 'warning', 'danger' or ''\n",
    "    tooltip='Lancer le pairing',\n",
    "    icon='check' # (FontAwesome names without the `fa-` prefix)\n",
    ")\n",
    "button.on_click(launch_pairing)\n",
    "display(button)\n",
    "output"
   ]
  },
  {
   "cell_type": "code",
   "execution_count": null,
   "id": "607db569",
   "metadata": {},
   "outputs": [],
   "source": []
  }
 ],
 "metadata": {
  "kernelspec": {
   "display_name": "Python 3 (ipykernel)",
   "language": "python",
   "name": "python3"
  },
  "language_info": {
   "codemirror_mode": {
    "name": "ipython",
    "version": 3
   },
   "file_extension": ".py",
   "mimetype": "text/x-python",
   "name": "python",
   "nbconvert_exporter": "python",
   "pygments_lexer": "ipython3",
   "version": "3.9.5"
  }
 },
 "nbformat": 4,
 "nbformat_minor": 5
}
