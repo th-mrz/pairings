{
 "cells": [
  {
   "cell_type": "code",
   "execution_count": null,
   "id": "cd571a09",
   "metadata": {},
   "outputs": [],
   "source": [
    "import pandas as pd\n",
    "import itertools\n",
    "import matplotlib.pyplot as plt\n",
    "import ipysheet\n",
    "import ipywidgets as widgets"
   ]
  },
  {
   "cell_type": "code",
   "execution_count": null,
   "id": "c03f812f",
   "metadata": {},
   "outputs": [],
   "source": [
    "separateur = \";\"\n",
    "PAIRING_FILE = \"~/Workspace/pairings/pairings.csv\""
   ]
  },
  {
   "cell_type": "code",
   "execution_count": null,
   "id": "3ba5ace7",
   "metadata": {},
   "outputs": [],
   "source": [
    "df = pd.read_csv(PAIRING_FILE, sep=separateur, index_col=0)"
   ]
  },
  {
   "cell_type": "code",
   "execution_count": null,
   "id": "c1b45239",
   "metadata": {},
   "outputs": [],
   "source": [
    "df"
   ]
  },
  {
   "cell_type": "code",
   "execution_count": null,
   "id": "7b492b12",
   "metadata": {
    "scrolled": true
   },
   "outputs": [],
   "source": [
    "sheet = ipysheet.from_dataframe(df)\n",
    "widgets.VBox([sheet])\n",
    "sheet"
   ]
  },
  {
   "cell_type": "code",
   "execution_count": null,
   "id": "6f20a7a8",
   "metadata": {},
   "outputs": [],
   "source": [
    "def has_duplicates(listOfElements):\n",
    "    if len(listOfElements) == len(set(listOfElements)):\n",
    "        return False\n",
    "    else:\n",
    "        return True"
   ]
  },
  {
   "cell_type": "code",
   "execution_count": null,
   "id": "f1609303",
   "metadata": {},
   "outputs": [],
   "source": [
    "def sum_score_of_pairing(pairing):\n",
    "    score = 0\n",
    "    for (x, y) in pairing:\n",
    "        score += df[x][y]\n",
    "    return score"
   ]
  },
  {
   "cell_type": "code",
   "execution_count": null,
   "id": "5cbd91db",
   "metadata": {},
   "outputs": [],
   "source": [
    "def launch_pairing(instance):\n",
    "    df = ipysheet.to_dataframe(sheet)\n",
    "    team1=df.columns.values.tolist()\n",
    "    team2=df.index.values.tolist()\n",
    "    list_j1 = list(itertools.product([team1[0]], team2))\n",
    "    list_j2 = list(itertools.product([team1[1]], team2))\n",
    "    list_j3 = list(itertools.product([team1[2]], team2))\n",
    "    list_j4 = list(itertools.product([team1[3]], team2))\n",
    "    list_j5 = list(itertools.product([team1[4]], team2))\n",
    "    list_j6 = list(itertools.product([team1[5]], team2))\n",
    "    total = list(itertools.product(list_j1, list_j2, list_j3, list_j4, list_j5, list_j6))\n",
    "    pairings = filter(lambda pairing: not has_duplicates([x[1] for x in pairing]), total)\n",
    "    list_pairings = list(pairings)\n",
    "    df_pairings = pd.DataFrame(pd.Series(list_pairings), columns=[\"Pairings\"])\n",
    "    df_pairings[\"Estimation\"] = df_pairings[\"Pairings\"].apply(lambda x: sum_score_of_pairing(x))\n",
    "    df_hist = df_pairings.Estimation.value_counts().to_frame('count').reset_index() #.rename(columns={\"index\":\"Estimation en VP\", \"count\":\"test\"})\n",
    "    df_hist[\"Estimation en VP\"] = df_hist[\"index\"]\n",
    "    df_hist[\"Nombre de pairings\"] = df_hist[\"count\"]\n",
    "    df_hist = df_hist[[\"Estimation en VP\", \"Nombre de pairings\"]]\n",
    "    display(df_hist.sort_values(by=\"Estimation en VP\"))\n",
    "    plt.hist(df_pairings.Estimation)\n",
    "    plt.title(\"Répartition des estimations sur les 720 pairings\")\n",
    "    plt.xlabel(\"Estimation en VP\")\n",
    "    plt.ylabel(\"Nombre de pairings\")\n",
    "    plt.grid()"
   ]
  },
  {
   "cell_type": "code",
   "execution_count": null,
   "id": "4e96bced",
   "metadata": {},
   "outputs": [],
   "source": [
    "def print_toto(instance):\n",
    "    display(\"toto\")"
   ]
  },
  {
   "cell_type": "code",
   "execution_count": 1,
   "id": "dd71746b",
   "metadata": {},
   "outputs": [
    {
     "ename": "NameError",
     "evalue": "name 'widgets' is not defined",
     "output_type": "error",
     "traceback": [
      "\u001b[0;31m---------------------------------------------------------------------------\u001b[0m",
      "\u001b[0;31mNameError\u001b[0m                                 Traceback (most recent call last)",
      "\u001b[0;32m/tmp/ipykernel_10954/2635458961.py\u001b[0m in \u001b[0;36m<module>\u001b[0;34m\u001b[0m\n\u001b[0;32m----> 1\u001b[0;31m button = widgets.Button(\n\u001b[0m\u001b[1;32m      2\u001b[0m     \u001b[0mdescription\u001b[0m\u001b[0;34m=\u001b[0m\u001b[0;34m'Lancer le pairing'\u001b[0m\u001b[0;34m,\u001b[0m\u001b[0;34m\u001b[0m\u001b[0;34m\u001b[0m\u001b[0m\n\u001b[1;32m      3\u001b[0m     \u001b[0mdisabled\u001b[0m\u001b[0;34m=\u001b[0m\u001b[0;32mFalse\u001b[0m\u001b[0;34m,\u001b[0m\u001b[0;34m\u001b[0m\u001b[0;34m\u001b[0m\u001b[0m\n\u001b[1;32m      4\u001b[0m     \u001b[0mbutton_style\u001b[0m\u001b[0;34m=\u001b[0m\u001b[0;34m''\u001b[0m\u001b[0;34m,\u001b[0m \u001b[0;31m# 'success', 'info', 'warning', 'danger' or ''\u001b[0m\u001b[0;34m\u001b[0m\u001b[0;34m\u001b[0m\u001b[0m\n\u001b[1;32m      5\u001b[0m     \u001b[0mtooltip\u001b[0m\u001b[0;34m=\u001b[0m\u001b[0;34m'Lancer le pairing'\u001b[0m\u001b[0;34m,\u001b[0m\u001b[0;34m\u001b[0m\u001b[0;34m\u001b[0m\u001b[0m\n",
      "\u001b[0;31mNameError\u001b[0m: name 'widgets' is not defined"
     ]
    }
   ],
   "source": [
    "button = widgets.Button(\n",
    "    description='Lancer le pairing',\n",
    "    disabled=False,\n",
    "    button_style='', # 'success', 'info', 'warning', 'danger' or ''\n",
    "    tooltip='Lancer le pairing',\n",
    "    icon='check' # (FontAwesome names without the `fa-` prefix)\n",
    ")\n",
    "button.on_click(print_toto)\n",
    "button"
   ]
  },
  {
   "cell_type": "code",
   "execution_count": null,
   "id": "607db569",
   "metadata": {},
   "outputs": [],
   "source": []
  }
 ],
 "metadata": {
  "kernelspec": {
   "display_name": "Python 3 (ipykernel)",
   "language": "python",
   "name": "python3"
  },
  "language_info": {
   "codemirror_mode": {
    "name": "ipython",
    "version": 3
   },
   "file_extension": ".py",
   "mimetype": "text/x-python",
   "name": "python",
   "nbconvert_exporter": "python",
   "pygments_lexer": "ipython3",
   "version": "3.9.5"
  }
 },
 "nbformat": 4,
 "nbformat_minor": 5
}
